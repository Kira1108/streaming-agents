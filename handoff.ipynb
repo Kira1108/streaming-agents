{
 "cells": [
  {
   "cell_type": "code",
   "execution_count": 1,
   "id": "baf28aa1",
   "metadata": {},
   "outputs": [],
   "source": [
    "\n",
    "from llama_index.core.tools import FunctionTool\n",
    "from tools import add, multiply\n",
    "from agent import Agent\n",
    "from chat import ChatWithAgent\n",
    "from handoff import SequentialHandoffAgent\n",
    "from prompts import CUSTOMER_SERVICE_SYSTEM_PRMOPT, WECHAT_SYSTEM_PROMPT\n",
    "from llm import llm"
   ]
  },
  {
   "cell_type": "code",
   "execution_count": null,
   "id": "88ee3b34",
   "metadata": {},
   "outputs": [],
   "source": [
    "# 修改工具prompt\n",
    "def add_wechat_account(account:str):\n",
    "    \"\"\"[只能在确认用户微信号之后调用]Add the customer's wechat account to the system. before adding, you should confirm the account format is correct.\"\"\"\n",
    "    print(f\"🔧Add wechat account: {account}\")\n",
    "    return f\"Wechat account {account} added.\"\n",
    "\n",
    "customer_service_agent = Agent(\n",
    "    llm = llm,\n",
    "    system_prompt=CUSTOMER_SERVICE_SYSTEM_PRMOPT,tools=[], name=\"CustomerServiceAgent\"\n",
    ")\n",
    "\n",
    "wechat_agent = Agent(\n",
    "    llm = llm, \n",
    "    system_prompt=WECHAT_SYSTEM_PROMPT\n",
    "    tools=[FunctionTool.from_defaults(\n",
    "        fn = add_wechat_account,\n",
    "        name = \"add_wechat_account\",\n",
    "        description=\"Add the customer's wechat account to the system. before adding, you should confirm the account format is correct.\",\n",
    "\n",
    "    )],\n",
    "    name=\"WeChatCustomerServiceAgent\"\n",
    ")\n",
    "\n",
    "agent = SequentialHandoffAgent(\n",
    "    root_agent=customer_service_agent,\n",
    "    handoff_to_agent=wechat_agent\n",
    ")\n"
   ]
  },
  {
   "cell_type": "code",
   "execution_count": 3,
   "id": "613b4a43",
   "metadata": {},
   "outputs": [],
   "source": [
    "chatter = ChatWithAgent(agent)"
   ]
  },
  {
   "cell_type": "code",
   "execution_count": 4,
   "id": "f1fd5c57",
   "metadata": {},
   "outputs": [
    {
     "name": "stdout",
     "output_type": "stream",
     "text": [
      "=== Chat Messages CustomerServiceAgent===\n",
      "--user: 你好\n",
      "=====================\n",
      "你好！有什么可以帮你的吗？"
     ]
    }
   ],
   "source": [
    "await chatter.chat(\"你好\")"
   ]
  },
  {
   "cell_type": "code",
   "execution_count": 5,
   "id": "67855524",
   "metadata": {},
   "outputs": [
    {
     "name": "stdout",
     "output_type": "stream",
     "text": [
      "=== Chat Messages CustomerServiceAgent===\n",
      "--user: 你好\n",
      "--assistant: 你好！有什么可以帮你的吗？\n",
      "--user: 怎么用airdrop传文件？用30个字简单告诉我\n",
      "=====================\n",
      "打开AirDrop，选择接收设备，发送文件即可。"
     ]
    }
   ],
   "source": [
    "await chatter.chat(\"怎么用airdrop传文件？用30个字简单告诉我\")"
   ]
  },
  {
   "cell_type": "code",
   "execution_count": 6,
   "id": "6fe920de",
   "metadata": {},
   "outputs": [
    {
     "name": "stdout",
     "output_type": "stream",
     "text": [
      "=== Chat Messages CustomerServiceAgent===\n",
      "--user: 你好\n",
      "--assistant: 你好！有什么可以帮你的吗？\n",
      "--user: 怎么用airdrop传文件？用30个字简单告诉我\n",
      "--assistant: 打开AirDrop，选择接收设备，发送文件即可。\n",
      "--user: 咱们加微信说吧\n",
      "=====================\n",
      "[日志通知]Handoff to WeChat customer service agent\n",
      "=== Chat Messages WeChatCustomerServiceAgent===\n",
      "--user: 你好\n",
      "--assistant: 你好！有什么可以帮你的吗？\n",
      "--user: 怎么用airdrop传文件？用30个字简单告诉我\n",
      "--assistant: 打开AirDrop，选择接收设备，发送文件即可。\n",
      "--user: 咱们加微信说吧\n",
      "--assistant: \n",
      "--tool: \n",
      "--user: 咱们加微信说吧\n",
      "=====================\n",
      "🔧Add wechat account: 易小鑫\n",
      "您好，易小鑫，有什么可以帮您的吗？"
     ]
    }
   ],
   "source": [
    "await chatter.chat(\"咱们加微信说吧\")"
   ]
  },
  {
   "cell_type": "code",
   "execution_count": 7,
   "id": "8e56f543",
   "metadata": {},
   "outputs": [
    {
     "name": "stdout",
     "output_type": "stream",
     "text": [
      "=== Chat Messages WeChatCustomerServiceAgent===\n",
      "--user: 你好\n",
      "--assistant: 你好！有什么可以帮你的吗？\n",
      "--user: 怎么用airdrop传文件？用30个字简单告诉我\n",
      "--assistant: 打开AirDrop，选择接收设备，发送文件即可。\n",
      "--user: 咱们加微信说吧\n",
      "--assistant: \n",
      "--tool: \n",
      "--user: 咱们加微信说吧\n",
      "--assistant: \n",
      "--tool: \n",
      "--assistant: 您好，易小鑫，有什么可以帮您的吗？\n",
      "--user: 微信好113445\n",
      "=====================\n",
      "🔧Add wechat account: 113445\n",
      "您好，微信账号113445已添加，有什么可以帮您的吗？"
     ]
    }
   ],
   "source": [
    "await chatter.chat(\"微信好113445\")"
   ]
  },
  {
   "cell_type": "code",
   "execution_count": 8,
   "id": "f46f739c",
   "metadata": {},
   "outputs": [
    {
     "data": {
      "text/plain": [
       "[{'role': 'user', 'content': '你好'},\n",
       " {'role': 'assistant', 'content': '你好！有什么可以帮你的吗？'},\n",
       " {'role': 'user', 'content': '怎么用airdrop传文件？用30个字简单告诉我'},\n",
       " {'role': 'assistant', 'content': '打开AirDrop，选择接收设备，发送文件即可。'},\n",
       " {'role': 'user', 'content': '咱们加微信说吧'},\n",
       " {'role': <MessageRole.ASSISTANT: 'assistant'>,\n",
       "  'additional_kwargs': {'tool_calls': [{'function': {'name': 'handoff_to_wechat_customer_service_agent',\n",
       "      'arguments': {}}}],\n",
       "   'thinking': ''},\n",
       "  'blocks': [{'block_type': 'text', 'text': ''}]},\n",
       " {'role': <MessageRole.TOOL: 'tool'>,\n",
       "  'additional_kwargs': {'tool_call_id': 'handoff_to_wechat_customer_service_agent'},\n",
       "  'blocks': [{'block_type': 'text',\n",
       "    'text': 'You are now connected to a WeChat customer service agent.'}]},\n",
       " {'role': 'user', 'content': '咱们加微信说吧'},\n",
       " {'role': <MessageRole.ASSISTANT: 'assistant'>,\n",
       "  'additional_kwargs': {'tool_calls': [{'function': {'name': 'add_wechat_account',\n",
       "      'arguments': {'account': '易小鑫'}}}],\n",
       "   'thinking': ''},\n",
       "  'blocks': [{'block_type': 'text', 'text': ''}]},\n",
       " {'role': <MessageRole.TOOL: 'tool'>,\n",
       "  'additional_kwargs': {'tool_call_id': 'add_wechat_account'},\n",
       "  'blocks': [{'block_type': 'text', 'text': 'Wechat account 易小鑫 added.'}]},\n",
       " {'role': 'assistant', 'content': '您好，易小鑫，有什么可以帮您的吗？'},\n",
       " {'role': 'user', 'content': '微信好113445'},\n",
       " {'role': <MessageRole.ASSISTANT: 'assistant'>,\n",
       "  'additional_kwargs': {'tool_calls': [{'function': {'name': 'add_wechat_account',\n",
       "      'arguments': {'account': '113445'}}}],\n",
       "   'thinking': ''},\n",
       "  'blocks': [{'block_type': 'text', 'text': ''}]},\n",
       " {'role': <MessageRole.TOOL: 'tool'>,\n",
       "  'additional_kwargs': {'tool_call_id': 'add_wechat_account'},\n",
       "  'blocks': [{'block_type': 'text', 'text': 'Wechat account 113445 added.'}]},\n",
       " {'role': 'assistant', 'content': '您好，微信账号113445已添加，有什么可以帮您的吗？'}]"
      ]
     },
     "execution_count": 8,
     "metadata": {},
     "output_type": "execute_result"
    }
   ],
   "source": [
    "chatter.messages"
   ]
  }
 ],
 "metadata": {
  "kernelspec": {
   "display_name": "base",
   "language": "python",
   "name": "python3"
  },
  "language_info": {
   "codemirror_mode": {
    "name": "ipython",
    "version": 3
   },
   "file_extension": ".py",
   "mimetype": "text/x-python",
   "name": "python",
   "nbconvert_exporter": "python",
   "pygments_lexer": "ipython3",
   "version": "3.10.9"
  }
 },
 "nbformat": 4,
 "nbformat_minor": 5
}
