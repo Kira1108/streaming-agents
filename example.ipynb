{
 "cells": [
  {
   "cell_type": "code",
   "execution_count": 2,
   "id": "2f4751d5",
   "metadata": {},
   "outputs": [],
   "source": [
    "from agent import Agent\n",
    "from chat import ChatWithAgent"
   ]
  },
  {
   "cell_type": "code",
   "execution_count": 3,
   "id": "a426dff7",
   "metadata": {},
   "outputs": [],
   "source": [
    "agent = Agent()\n",
    "chatter = ChatWithAgent(agent)"
   ]
  },
  {
   "cell_type": "code",
   "execution_count": 4,
   "id": "b550df44",
   "metadata": {},
   "outputs": [],
   "source": [
    "agent = Agent()\n",
    "chatter = ChatWithAgent(agent)"
   ]
  },
  {
   "cell_type": "code",
   "execution_count": 5,
   "id": "89ab5365",
   "metadata": {},
   "outputs": [
    {
     "name": "stdout",
     "output_type": "stream",
     "text": [
      "=== Chat Messages ===\n",
      "--user: what is 332 + 224 * 3\n",
      "=====================\n",
      "The result of 332 + 224 * 3 is **1968**! 🎉"
     ]
    }
   ],
   "source": [
    "await chatter.chat(\"what is 332 + 224 * 3\")"
   ]
  },
  {
   "cell_type": "code",
   "execution_count": 6,
   "id": "44b9d20e",
   "metadata": {},
   "outputs": [
    {
     "name": "stdout",
     "output_type": "stream",
     "text": [
      "=== Chat Messages ===\n",
      "--user: what is 332 + 224 * 3\n",
      "--assistant: \n",
      "--tool: \n",
      "--tool: \n",
      "--assistant: The result of 332 + 224 * 3 is **1968**! 🎉\n",
      "--user: what is 123 + 223 * 3\n",
      "=====================\n",
      "The result of 123 + 223 * 3 is **792**! 🎉"
     ]
    }
   ],
   "source": [
    "await chatter.chat(\"what is 123 + 223 * 3\")"
   ]
  },
  {
   "cell_type": "code",
   "execution_count": 7,
   "id": "78184c07",
   "metadata": {},
   "outputs": [
    {
     "name": "stdout",
     "output_type": "stream",
     "text": [
      "=== Chat Messages ===\n",
      "--user: what is 332 + 224 * 3\n",
      "--assistant: \n",
      "--tool: \n",
      "--tool: \n",
      "--assistant: The result of 332 + 224 * 3 is **1968**! 🎉\n",
      "--user: what is 123 + 223 * 3\n",
      "--assistant: \n",
      "--tool: \n",
      "--tool: \n",
      "--assistant: The result of 123 + 223 * 3 is **792**! 🎉\n",
      "--user: what is 12345 * 2 + 22345 * 3\n",
      "=====================\n",
      "The result of 12345 * 2 + 22345 * 3 is **91725**! 🎉"
     ]
    }
   ],
   "source": [
    "await chatter.chat(\"what is 12345 * 2 + 22345 * 3\")"
   ]
  },
  {
   "cell_type": "code",
   "execution_count": 8,
   "id": "fd2cef11",
   "metadata": {},
   "outputs": [
    {
     "data": {
      "text/plain": [
       "[{'role': 'user', 'content': 'what is 332 + 224 * 3'},\n",
       " {'role': <MessageRole.ASSISTANT: 'assistant'>,\n",
       "  'additional_kwargs': {'tool_calls': [{'function': {'name': 'add',\n",
       "      'arguments': {'a': 332, 'b': 224}}},\n",
       "    {'function': {'name': 'multiply', 'arguments': {'a': 656, 'b': 3}}}],\n",
       "   'thinking': ''},\n",
       "  'blocks': [{'block_type': 'text', 'text': ''}]},\n",
       " {'role': <MessageRole.TOOL: 'tool'>,\n",
       "  'additional_kwargs': {'tool_call_id': 'add'},\n",
       "  'blocks': [{'block_type': 'text', 'text': '556'}]},\n",
       " {'role': <MessageRole.TOOL: 'tool'>,\n",
       "  'additional_kwargs': {'tool_call_id': 'multiply'},\n",
       "  'blocks': [{'block_type': 'text', 'text': '1968'}]},\n",
       " {'role': 'assistant',\n",
       "  'content': 'The result of 332 + 224 * 3 is **1968**! 🎉'},\n",
       " {'role': 'user', 'content': 'what is 123 + 223 * 3'},\n",
       " {'role': <MessageRole.ASSISTANT: 'assistant'>,\n",
       "  'additional_kwargs': {'tool_calls': [{'function': {'name': 'multiply',\n",
       "      'arguments': {'a': 223, 'b': 3}}},\n",
       "    {'function': {'name': 'add', 'arguments': {'a': 123, 'b': 669}}}],\n",
       "   'thinking': ''},\n",
       "  'blocks': [{'block_type': 'text', 'text': ''}]},\n",
       " {'role': <MessageRole.TOOL: 'tool'>,\n",
       "  'additional_kwargs': {'tool_call_id': 'multiply'},\n",
       "  'blocks': [{'block_type': 'text', 'text': '669'}]},\n",
       " {'role': <MessageRole.TOOL: 'tool'>,\n",
       "  'additional_kwargs': {'tool_call_id': 'add'},\n",
       "  'blocks': [{'block_type': 'text', 'text': '792'}]},\n",
       " {'role': 'assistant', 'content': 'The result of 123 + 223 * 3 is **792**! 🎉'},\n",
       " {'role': 'user', 'content': 'what is 12345 * 2 + 22345 * 3'},\n",
       " {'role': <MessageRole.ASSISTANT: 'assistant'>,\n",
       "  'additional_kwargs': {'tool_calls': [{'function': {'name': 'multiply',\n",
       "      'arguments': {'a': 12345, 'b': 2}}},\n",
       "    {'function': {'name': 'multiply', 'arguments': {'a': 22345, 'b': 3}}},\n",
       "    {'function': {'name': 'add', 'arguments': {'a': 24690, 'b': 67035}}}],\n",
       "   'thinking': ''},\n",
       "  'blocks': [{'block_type': 'text', 'text': ''}]},\n",
       " {'role': <MessageRole.TOOL: 'tool'>,\n",
       "  'additional_kwargs': {'tool_call_id': 'multiply'},\n",
       "  'blocks': [{'block_type': 'text', 'text': '24690'}]},\n",
       " {'role': <MessageRole.TOOL: 'tool'>,\n",
       "  'additional_kwargs': {'tool_call_id': 'multiply'},\n",
       "  'blocks': [{'block_type': 'text', 'text': '67035'}]},\n",
       " {'role': <MessageRole.TOOL: 'tool'>,\n",
       "  'additional_kwargs': {'tool_call_id': 'add'},\n",
       "  'blocks': [{'block_type': 'text', 'text': '91725'}]},\n",
       " {'role': 'assistant',\n",
       "  'content': 'The result of 12345 * 2 + 22345 * 3 is **91725**! 🎉'}]"
      ]
     },
     "execution_count": 8,
     "metadata": {},
     "output_type": "execute_result"
    }
   ],
   "source": [
    "chatter.messages"
   ]
  }
 ],
 "metadata": {
  "kernelspec": {
   "display_name": "base",
   "language": "python",
   "name": "python3"
  },
  "language_info": {
   "codemirror_mode": {
    "name": "ipython",
    "version": 3
   },
   "file_extension": ".py",
   "mimetype": "text/x-python",
   "name": "python",
   "nbconvert_exporter": "python",
   "pygments_lexer": "ipython3",
   "version": "3.10.9"
  }
 },
 "nbformat": 4,
 "nbformat_minor": 5
}
