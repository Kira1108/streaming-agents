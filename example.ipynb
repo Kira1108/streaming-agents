{
 "cells": [
  {
   "cell_type": "markdown",
   "id": "34c40995",
   "metadata": {},
   "source": [
    "**Handling streaming events**"
   ]
  },
  {
   "cell_type": "code",
   "execution_count": 2,
   "id": "2f4751d5",
   "metadata": {},
   "outputs": [],
   "source": [
    "from agent import Agent\n",
    "from chat import ChatWithAgent"
   ]
  },
  {
   "cell_type": "code",
   "execution_count": 3,
   "id": "a426dff7",
   "metadata": {},
   "outputs": [],
   "source": [
    "agent = Agent()\n",
    "chatter = ChatWithAgent(agent)"
   ]
  },
  {
   "cell_type": "code",
   "execution_count": 4,
   "id": "b550df44",
   "metadata": {},
   "outputs": [],
   "source": [
    "agent = Agent()\n",
    "chatter = ChatWithAgent(agent)"
   ]
  },
  {
   "cell_type": "code",
   "execution_count": 5,
   "id": "89ab5365",
   "metadata": {},
   "outputs": [
    {
     "name": "stdout",
     "output_type": "stream",
     "text": [
      "=== Chat Messages ===\n",
      "--user: what is 332 + 224 * 3\n",
      "=====================\n",
      "The result of 332 + 224 * 3 is **1968**! 🧮✨"
     ]
    }
   ],
   "source": [
    "await chatter.chat(\"what is 332 + 224 * 3\")"
   ]
  },
  {
   "cell_type": "code",
   "execution_count": 6,
   "id": "44b9d20e",
   "metadata": {},
   "outputs": [
    {
     "name": "stdout",
     "output_type": "stream",
     "text": [
      "=== Chat Messages ===\n",
      "--user: what is 332 + 224 * 3\n",
      "--assistant: \n",
      "--tool: \n",
      "--tool: \n",
      "--assistant: The result of 332 + 224 * 3 is **1968**! 🧮✨\n",
      "--user: what is 123 + 223 * 3\n",
      "=====================\n",
      "The result of 123 + 223 * 3 is **792**! 🧮✨"
     ]
    }
   ],
   "source": [
    "await chatter.chat(\"what is 123 + 223 * 3\")"
   ]
  },
  {
   "cell_type": "code",
   "execution_count": 7,
   "id": "78184c07",
   "metadata": {},
   "outputs": [
    {
     "name": "stdout",
     "output_type": "stream",
     "text": [
      "=== Chat Messages ===\n",
      "--user: what is 332 + 224 * 3\n",
      "--assistant: \n",
      "--tool: \n",
      "--tool: \n",
      "--assistant: The result of 332 + 224 * 3 is **1968**! 🧮✨\n",
      "--user: what is 123 + 223 * 3\n",
      "--assistant: \n",
      "--tool: \n",
      "--tool: \n",
      "--assistant: The result of 123 + 223 * 3 is **792**! 🧮✨\n",
      "--user: what is 12345 * 2 + 22345 * 3\n",
      "=====================\n",
      "The result of 12345 * 2 + 22345 * 3 is **91725**! 🧮✨"
     ]
    }
   ],
   "source": [
    "await chatter.chat(\"what is 12345 * 2 + 22345 * 3\")"
   ]
  },
  {
   "cell_type": "code",
   "execution_count": 8,
   "id": "fd2cef11",
   "metadata": {},
   "outputs": [
    {
     "data": {
      "text/plain": [
       "[{'role': 'user', 'content': 'what is 332 + 224 * 3'},\n",
       " {'role': <MessageRole.ASSISTANT: 'assistant'>,\n",
       "  'additional_kwargs': {'tool_calls': [{'function': {'name': 'add',\n",
       "      'arguments': {'a': 332, 'b': 224}}},\n",
       "    {'function': {'name': 'multiply', 'arguments': {'a': 656, 'b': 3}}}],\n",
       "   'thinking': ''},\n",
       "  'blocks': [{'block_type': 'text', 'text': ''}]},\n",
       " {'role': <MessageRole.TOOL: 'tool'>,\n",
       "  'additional_kwargs': {'tool_call_id': 'add'},\n",
       "  'blocks': [{'block_type': 'text', 'text': '556'}]},\n",
       " {'role': <MessageRole.TOOL: 'tool'>,\n",
       "  'additional_kwargs': {'tool_call_id': 'multiply'},\n",
       "  'blocks': [{'block_type': 'text', 'text': '1968'}]},\n",
       " {'role': 'assistant',\n",
       "  'content': 'The result of 332 + 224 * 3 is **1968**! 🧮✨'},\n",
       " {'role': 'user', 'content': 'what is 123 + 223 * 3'},\n",
       " {'role': <MessageRole.ASSISTANT: 'assistant'>,\n",
       "  'additional_kwargs': {'tool_calls': [{'function': {'name': 'multiply',\n",
       "      'arguments': {'a': 223, 'b': 3}}},\n",
       "    {'function': {'name': 'add', 'arguments': {'a': 123, 'b': 669}}}],\n",
       "   'thinking': ''},\n",
       "  'blocks': [{'block_type': 'text', 'text': ''}]},\n",
       " {'role': <MessageRole.TOOL: 'tool'>,\n",
       "  'additional_kwargs': {'tool_call_id': 'multiply'},\n",
       "  'blocks': [{'block_type': 'text', 'text': '669'}]},\n",
       " {'role': <MessageRole.TOOL: 'tool'>,\n",
       "  'additional_kwargs': {'tool_call_id': 'add'},\n",
       "  'blocks': [{'block_type': 'text', 'text': '792'}]},\n",
       " {'role': 'assistant',\n",
       "  'content': 'The result of 123 + 223 * 3 is **792**! 🧮✨'},\n",
       " {'role': 'user', 'content': 'what is 12345 * 2 + 22345 * 3'},\n",
       " {'role': <MessageRole.ASSISTANT: 'assistant'>,\n",
       "  'additional_kwargs': {'tool_calls': [{'function': {'name': 'multiply',\n",
       "      'arguments': {'a': 12345, 'b': 2}}},\n",
       "    {'function': {'name': 'multiply', 'arguments': {'a': 22345, 'b': 3}}},\n",
       "    {'function': {'name': 'add', 'arguments': {'a': 24690, 'b': 67035}}}],\n",
       "   'thinking': ''},\n",
       "  'blocks': [{'block_type': 'text', 'text': ''}]},\n",
       " {'role': <MessageRole.TOOL: 'tool'>,\n",
       "  'additional_kwargs': {'tool_call_id': 'multiply'},\n",
       "  'blocks': [{'block_type': 'text', 'text': '24690'}]},\n",
       " {'role': <MessageRole.TOOL: 'tool'>,\n",
       "  'additional_kwargs': {'tool_call_id': 'multiply'},\n",
       "  'blocks': [{'block_type': 'text', 'text': '67035'}]},\n",
       " {'role': <MessageRole.TOOL: 'tool'>,\n",
       "  'additional_kwargs': {'tool_call_id': 'add'},\n",
       "  'blocks': [{'block_type': 'text', 'text': '91725'}]},\n",
       " {'role': 'assistant',\n",
       "  'content': 'The result of 12345 * 2 + 22345 * 3 is **91725**! 🧮✨'}]"
      ]
     },
     "execution_count": 8,
     "metadata": {},
     "output_type": "execute_result"
    }
   ],
   "source": [
    "chatter.messages"
   ]
  },
  {
   "cell_type": "markdown",
   "id": "ab51ccd6",
   "metadata": {},
   "source": [
    "**Example handoff procedure**"
   ]
  },
  {
   "cell_type": "code",
   "execution_count": null,
   "id": "8bb58cbe",
   "metadata": {},
   "outputs": [],
   "source": [
    "from llama_index.core.tools import FunctionTool\n",
    "from tools import add, multiply\n",
    "\n",
    "def handoff_to_poetry_agent():\n",
    "    \"\"\"If the user asks for a poem, hand off to the poetry agent.py\"\"\"\n",
    "    print(\"Handoff to poetry agent\")\n",
    "\n",
    "\n",
    "handoff_tool = FunctionTool.from_defaults(\n",
    "    fn = handoff_to_poetry_agent,\n",
    "    name = \"handoff_to_poetry_agent\",\n",
    "    description=\"If the user asks for a poem, hand off to the poetry agent, use this tool\",\n",
    "    return_direct=True\n",
    ")\n"
   ]
  },
  {
   "cell_type": "code",
   "execution_count": 19,
   "id": "c3aaf12e",
   "metadata": {},
   "outputs": [],
   "source": [
    "agent = Agent(system_prompt=\"\"\"\n",
    "You are a helpful math agent. You can use tools to help you answer questions. \n",
    "If the user asks for a poem, hand off to the poetry agent by using the tool \"handoff_to_poetry_agent\".\n",
    "\"\"\",\n",
    "tools = [handoff_tool, add, multiply])\n",
    "chatter = ChatWithAgent(agent)"
   ]
  },
  {
   "cell_type": "code",
   "execution_count": 20,
   "id": "380c5d1f",
   "metadata": {},
   "outputs": [
    {
     "name": "stdout",
     "output_type": "stream",
     "text": [
      "=== Chat Messages ===\n",
      "--user: what is 332 + 224 * 3\n",
      "=====================\n",
      "The result of $332 + 224 \\times 3$ is $1004$."
     ]
    }
   ],
   "source": [
    "await chatter.chat(\"what is 332 + 224 * 3\")"
   ]
  },
  {
   "cell_type": "code",
   "execution_count": 21,
   "id": "53f22c8c",
   "metadata": {},
   "outputs": [
    {
     "name": "stdout",
     "output_type": "stream",
     "text": [
      "=== Chat Messages ===\n",
      "--user: what is 332 + 224 * 3\n",
      "--assistant: \n",
      "--tool: \n",
      "--assistant: \n",
      "--tool: \n",
      "--assistant: The result of $332 + 224 \\times 3$ is $1004$.\n",
      "--user: write a poem about a cat\n",
      "=====================\n",
      "Handoff to poetry agent\n"
     ]
    }
   ],
   "source": [
    "await chatter.chat(\"write a poem about a cat\")"
   ]
  },
  {
   "cell_type": "code",
   "execution_count": 22,
   "id": "13690b36",
   "metadata": {},
   "outputs": [
    {
     "data": {
      "text/plain": [
       "[{'role': 'user', 'content': 'what is 332 + 224 * 3'},\n",
       " {'role': <MessageRole.ASSISTANT: 'assistant'>,\n",
       "  'additional_kwargs': {'tool_calls': [{'function': {'name': 'multiply',\n",
       "      'arguments': {'a': 224, 'b': 3}}}],\n",
       "   'thinking': ''},\n",
       "  'blocks': [{'block_type': 'text', 'text': ''}]},\n",
       " {'role': <MessageRole.TOOL: 'tool'>,\n",
       "  'additional_kwargs': {'tool_call_id': 'multiply'},\n",
       "  'blocks': [{'block_type': 'text', 'text': '672'}]},\n",
       " {'role': <MessageRole.ASSISTANT: 'assistant'>,\n",
       "  'additional_kwargs': {'tool_calls': [{'function': {'name': 'add',\n",
       "      'arguments': {'a': 332, 'b': 672}}}],\n",
       "   'thinking': ''},\n",
       "  'blocks': [{'block_type': 'text', 'text': ''}]},\n",
       " {'role': <MessageRole.TOOL: 'tool'>,\n",
       "  'additional_kwargs': {'tool_call_id': 'add'},\n",
       "  'blocks': [{'block_type': 'text', 'text': '1004'}]},\n",
       " {'role': 'assistant',\n",
       "  'content': 'The result of $332 + 224 \\\\times 3$ is $1004$.'},\n",
       " {'role': 'user', 'content': 'write a poem about a cat'},\n",
       " {'role': <MessageRole.ASSISTANT: 'assistant'>,\n",
       "  'additional_kwargs': {'tool_calls': [{'function': {'name': 'handoff_to_poetry_agent',\n",
       "      'arguments': {}}}],\n",
       "   'thinking': ''},\n",
       "  'blocks': [{'block_type': 'text', 'text': ''}]},\n",
       " {'role': <MessageRole.TOOL: 'tool'>,\n",
       "  'additional_kwargs': {'tool_call_id': 'handoff_to_poetry_agent'},\n",
       "  'blocks': [{'block_type': 'text', 'text': 'None'}]},\n",
       " {'role': 'assistant', 'content': ''}]"
      ]
     },
     "execution_count": 22,
     "metadata": {},
     "output_type": "execute_result"
    }
   ],
   "source": [
    "chatter.messages"
   ]
  }
 ],
 "metadata": {
  "kernelspec": {
   "display_name": "base",
   "language": "python",
   "name": "python3"
  },
  "language_info": {
   "codemirror_mode": {
    "name": "ipython",
    "version": 3
   },
   "file_extension": ".py",
   "mimetype": "text/x-python",
   "name": "python",
   "nbconvert_exporter": "python",
   "pygments_lexer": "ipython3",
   "version": "3.10.9"
  }
 },
 "nbformat": 4,
 "nbformat_minor": 5
}
