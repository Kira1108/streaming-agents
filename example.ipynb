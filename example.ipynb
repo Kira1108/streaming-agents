{
 "cells": [
  {
   "cell_type": "markdown",
   "id": "34c40995",
   "metadata": {},
   "source": [
    "**Handling streaming events**"
   ]
  },
  {
   "cell_type": "code",
   "execution_count": 2,
   "id": "2f4751d5",
   "metadata": {},
   "outputs": [],
   "source": [
    "from agent import Agent\n",
    "from chat import ChatWithAgent\n",
    "from llm import llm"
   ]
  },
  {
   "cell_type": "code",
   "execution_count": 3,
   "id": "a426dff7",
   "metadata": {},
   "outputs": [],
   "source": [
    "agent = Agent(llm = llm)\n",
    "chatter = ChatWithAgent(agent)"
   ]
  },
  {
   "cell_type": "code",
   "execution_count": 4,
   "id": "b550df44",
   "metadata": {},
   "outputs": [],
   "source": [
    "agent = Agent(llm = llm)\n",
    "chatter = ChatWithAgent(agent)"
   ]
  },
  {
   "cell_type": "code",
   "execution_count": 5,
   "id": "89ab5365",
   "metadata": {},
   "outputs": [
    {
     "name": "stdout",
     "output_type": "stream",
     "text": [
      "=== Chat Messages DefaultAgent===\n",
      "--user: what is 332 + 224 * 3\n",
      "=====================\n",
      "The result of 332 + 224 * 3 is 1968! 😎"
     ]
    }
   ],
   "source": [
    "await chatter.chat(\"what is 332 + 224 * 3\")"
   ]
  },
  {
   "cell_type": "code",
   "execution_count": 6,
   "id": "44b9d20e",
   "metadata": {},
   "outputs": [
    {
     "name": "stdout",
     "output_type": "stream",
     "text": [
      "=== Chat Messages DefaultAgent===\n",
      "--user: what is 332 + 224 * 3\n",
      "--assistant: \n",
      "--tool: \n",
      "--tool: \n",
      "--assistant: The result of 332 + 224 * 3 is 1968! 😎\n",
      "--user: what is 123 + 223 * 3\n",
      "=====================\n"
     ]
    },
    {
     "name": "stdout",
     "output_type": "stream",
     "text": [
      "The result of 123 + 223 * 3 is 1038! 😎"
     ]
    }
   ],
   "source": [
    "await chatter.chat(\"what is 123 + 223 * 3\")"
   ]
  },
  {
   "cell_type": "code",
   "execution_count": 7,
   "id": "78184c07",
   "metadata": {},
   "outputs": [
    {
     "name": "stdout",
     "output_type": "stream",
     "text": [
      "=== Chat Messages DefaultAgent===\n",
      "--user: what is 332 + 224 * 3\n",
      "--assistant: \n",
      "--tool: \n",
      "--tool: \n",
      "--assistant: The result of 332 + 224 * 3 is 1968! 😎\n",
      "--user: what is 123 + 223 * 3\n",
      "--assistant: \n",
      "--tool: \n",
      "--tool: \n",
      "--assistant: The result of 123 + 223 * 3 is 1038! 😎\n",
      "--user: what is 12345 * 2 + 22345 * 3\n",
      "=====================\n",
      "The result of 12345 * 2 + 22345 * 3 is 91725! 😎"
     ]
    }
   ],
   "source": [
    "await chatter.chat(\"what is 12345 * 2 + 22345 * 3\")"
   ]
  },
  {
   "cell_type": "code",
   "execution_count": 8,
   "id": "fd2cef11",
   "metadata": {},
   "outputs": [
    {
     "data": {
      "text/plain": [
       "[{'role': 'user', 'content': 'what is 332 + 224 * 3'},\n",
       " {'role': <MessageRole.ASSISTANT: 'assistant'>,\n",
       "  'additional_kwargs': {'tool_calls': [{'function': {'name': 'add',\n",
       "      'arguments': {'a': 332, 'b': 224}}},\n",
       "    {'function': {'name': 'multiply', 'arguments': {'a': 656, 'b': 3}}}],\n",
       "   'thinking': ''},\n",
       "  'blocks': [{'block_type': 'text', 'text': ''}]},\n",
       " {'role': <MessageRole.TOOL: 'tool'>,\n",
       "  'additional_kwargs': {'tool_call_id': 'add'},\n",
       "  'blocks': [{'block_type': 'text', 'text': '556'}]},\n",
       " {'role': <MessageRole.TOOL: 'tool'>,\n",
       "  'additional_kwargs': {'tool_call_id': 'multiply'},\n",
       "  'blocks': [{'block_type': 'text', 'text': '1968'}]},\n",
       " {'role': 'assistant', 'content': 'The result of 332 + 224 * 3 is 1968! 😎'},\n",
       " {'role': 'user', 'content': 'what is 123 + 223 * 3'},\n",
       " {'role': <MessageRole.ASSISTANT: 'assistant'>,\n",
       "  'additional_kwargs': {'tool_calls': [{'function': {'name': 'add',\n",
       "      'arguments': {'a': 123, 'b': 223}}},\n",
       "    {'function': {'name': 'multiply', 'arguments': {'a': 346, 'b': 3}}}],\n",
       "   'thinking': ''},\n",
       "  'blocks': [{'block_type': 'text', 'text': ''}]},\n",
       " {'role': <MessageRole.TOOL: 'tool'>,\n",
       "  'additional_kwargs': {'tool_call_id': 'add'},\n",
       "  'blocks': [{'block_type': 'text', 'text': '346'}]},\n",
       " {'role': <MessageRole.TOOL: 'tool'>,\n",
       "  'additional_kwargs': {'tool_call_id': 'multiply'},\n",
       "  'blocks': [{'block_type': 'text', 'text': '1038'}]},\n",
       " {'role': 'assistant', 'content': 'The result of 123 + 223 * 3 is 1038! 😎'},\n",
       " {'role': 'user', 'content': 'what is 12345 * 2 + 22345 * 3'},\n",
       " {'role': <MessageRole.ASSISTANT: 'assistant'>,\n",
       "  'additional_kwargs': {'tool_calls': [{'function': {'name': 'multiply',\n",
       "      'arguments': {'a': 12345, 'b': 2}}},\n",
       "    {'function': {'name': 'multiply', 'arguments': {'a': 22345, 'b': 3}}},\n",
       "    {'function': {'name': 'add', 'arguments': {'a': 24690, 'b': 67035}}}],\n",
       "   'thinking': ''},\n",
       "  'blocks': [{'block_type': 'text', 'text': ''}]},\n",
       " {'role': <MessageRole.TOOL: 'tool'>,\n",
       "  'additional_kwargs': {'tool_call_id': 'multiply'},\n",
       "  'blocks': [{'block_type': 'text', 'text': '24690'}]},\n",
       " {'role': <MessageRole.TOOL: 'tool'>,\n",
       "  'additional_kwargs': {'tool_call_id': 'multiply'},\n",
       "  'blocks': [{'block_type': 'text', 'text': '67035'}]},\n",
       " {'role': <MessageRole.TOOL: 'tool'>,\n",
       "  'additional_kwargs': {'tool_call_id': 'add'},\n",
       "  'blocks': [{'block_type': 'text', 'text': '91725'}]},\n",
       " {'role': 'assistant',\n",
       "  'content': 'The result of 12345 * 2 + 22345 * 3 is 91725! 😎'}]"
      ]
     },
     "execution_count": 8,
     "metadata": {},
     "output_type": "execute_result"
    }
   ],
   "source": [
    "chatter.messages"
   ]
  },
  {
   "cell_type": "markdown",
   "id": "ab51ccd6",
   "metadata": {},
   "source": [
    "**Example handoff procedure**"
   ]
  },
  {
   "cell_type": "code",
   "execution_count": 9,
   "id": "8bb58cbe",
   "metadata": {},
   "outputs": [],
   "source": [
    "from llama_index.core.tools import FunctionTool\n",
    "from tools import add, multiply\n",
    "\n",
    "def handoff_to_poetry_agent():\n",
    "    \"\"\"If the user asks for a poem, hand off to the poetry agent.py\"\"\"\n",
    "    print(\"Handoff to poetry agent\")\n",
    "\n",
    "\n",
    "handoff_tool = FunctionTool.from_defaults(\n",
    "    fn = handoff_to_poetry_agent,\n",
    "    name = \"handoff_to_poetry_agent\",\n",
    "    description=\"If the user asks for a poem, hand off to the poetry agent, use this tool\",\n",
    "    return_direct=True\n",
    ")\n"
   ]
  },
  {
   "cell_type": "code",
   "execution_count": 10,
   "id": "c3aaf12e",
   "metadata": {},
   "outputs": [],
   "source": [
    "agent = Agent(llm = llm,system_prompt=\"\"\"\n",
    "You are a helpful math agent. You can use tools to help you answer questions. \n",
    "If the user asks for a poem, hand off to the poetry agent by using the tool \"handoff_to_poetry_agent\".\n",
    "\"\"\",\n",
    "tools = [handoff_tool, add, multiply])\n",
    "chatter = ChatWithAgent(agent)"
   ]
  },
  {
   "cell_type": "code",
   "execution_count": 11,
   "id": "380c5d1f",
   "metadata": {},
   "outputs": [
    {
     "name": "stdout",
     "output_type": "stream",
     "text": [
      "=== Chat Messages DefaultAgent===\n",
      "--user: what is 332 + 224 * 3\n",
      "=====================\n",
      "The result of $332 + 224 \\times 3$ is $1004$."
     ]
    }
   ],
   "source": [
    "await chatter.chat(\"what is 332 + 224 * 3\")"
   ]
  },
  {
   "cell_type": "code",
   "execution_count": 12,
   "id": "53f22c8c",
   "metadata": {},
   "outputs": [
    {
     "name": "stdout",
     "output_type": "stream",
     "text": [
      "=== Chat Messages DefaultAgent===\n",
      "--user: what is 332 + 224 * 3\n",
      "--assistant: \n",
      "--tool: \n",
      "--assistant: \n",
      "--tool: \n",
      "--assistant: The result of $332 + 224 \\times 3$ is $1004$.\n",
      "--user: write a poem about a cat\n",
      "=====================\n"
     ]
    },
    {
     "name": "stdout",
     "output_type": "stream",
     "text": [
      "Handoff to poetry agent\n",
      "=== Chat Messages DefaultAgent===\n",
      "--user: what is 332 + 224 * 3\n",
      "--assistant: \n",
      "--tool: \n",
      "--assistant: \n",
      "--tool: \n",
      "--assistant: The result of $332 + 224 \\times 3$ is $1004$.\n",
      "--user: write a poem about a cat\n",
      "--assistant: \n",
      "--tool: \n",
      "--user: write a poem about a cat\n",
      "=====================\n",
      "In the quiet hush of twilight's grace,  \n",
      "A cat strolls by, with a curious face.  \n",
      "Her eyes like embers, aglow with light,  \n",
      "She dances through the moon's soft night.  \n",
      "\n",
      "With a flick of her tail, she whispers low,  \n",
      "A secret only the stars can know.  \n",
      "Her paws tread soft on the silent ground,  \n",
      "A shadow with a heart so profound.  \n",
      "\n",
      "She leaps upon the windowsill,  \n",
      "Where the wind sings a gentle thrill.  \n",
      "A purr escapes her lips so sweet,  \n",
      "A melody that makes the heart complete.  \n",
      "\n",
      "In her gaze, a world of dreams,  \n",
      "Where joy and silence softly gleam.  \n",
      "A cat, both wild and gentle too,  \n",
      "A soul that knows the skies and you."
     ]
    }
   ],
   "source": [
    "await chatter.chat(\"write a poem about a cat\")"
   ]
  },
  {
   "cell_type": "code",
   "execution_count": 13,
   "id": "13690b36",
   "metadata": {},
   "outputs": [
    {
     "data": {
      "text/plain": [
       "[{'role': 'user', 'content': 'what is 332 + 224 * 3'},\n",
       " {'role': <MessageRole.ASSISTANT: 'assistant'>,\n",
       "  'additional_kwargs': {'tool_calls': [{'function': {'name': 'multiply',\n",
       "      'arguments': {'a': 224, 'b': 3}}}],\n",
       "   'thinking': ''},\n",
       "  'blocks': [{'block_type': 'text', 'text': ''}]},\n",
       " {'role': <MessageRole.TOOL: 'tool'>,\n",
       "  'additional_kwargs': {'tool_call_id': 'multiply'},\n",
       "  'blocks': [{'block_type': 'text', 'text': '672'}]},\n",
       " {'role': <MessageRole.ASSISTANT: 'assistant'>,\n",
       "  'additional_kwargs': {'tool_calls': [{'function': {'name': 'add',\n",
       "      'arguments': {'a': 332, 'b': 672}}}],\n",
       "   'thinking': ''},\n",
       "  'blocks': [{'block_type': 'text', 'text': ''}]},\n",
       " {'role': <MessageRole.TOOL: 'tool'>,\n",
       "  'additional_kwargs': {'tool_call_id': 'add'},\n",
       "  'blocks': [{'block_type': 'text', 'text': '1004'}]},\n",
       " {'role': 'assistant',\n",
       "  'content': 'The result of $332 + 224 \\\\times 3$ is $1004$.'},\n",
       " {'role': 'user', 'content': 'write a poem about a cat'},\n",
       " {'role': <MessageRole.ASSISTANT: 'assistant'>,\n",
       "  'additional_kwargs': {'tool_calls': [{'function': {'name': 'handoff_to_poetry_agent',\n",
       "      'arguments': {}}}],\n",
       "   'thinking': ''},\n",
       "  'blocks': [{'block_type': 'text', 'text': ''}]},\n",
       " {'role': <MessageRole.TOOL: 'tool'>,\n",
       "  'additional_kwargs': {'tool_call_id': 'handoff_to_poetry_agent'},\n",
       "  'blocks': [{'block_type': 'text', 'text': 'None'}]},\n",
       " {'role': 'user', 'content': 'write a poem about a cat'},\n",
       " {'role': 'assistant',\n",
       "  'content': \"In the quiet hush of twilight's grace,  \\nA cat strolls by, with a curious face.  \\nHer eyes like embers, aglow with light,  \\nShe dances through the moon's soft night.  \\n\\nWith a flick of her tail, she whispers low,  \\nA secret only the stars can know.  \\nHer paws tread soft on the silent ground,  \\nA shadow with a heart so profound.  \\n\\nShe leaps upon the windowsill,  \\nWhere the wind sings a gentle thrill.  \\nA purr escapes her lips so sweet,  \\nA melody that makes the heart complete.  \\n\\nIn her gaze, a world of dreams,  \\nWhere joy and silence softly gleam.  \\nA cat, both wild and gentle too,  \\nA soul that knows the skies and you.\"}]"
      ]
     },
     "execution_count": 13,
     "metadata": {},
     "output_type": "execute_result"
    }
   ],
   "source": [
    "chatter.messages"
   ]
  }
 ],
 "metadata": {
  "kernelspec": {
   "display_name": "base",
   "language": "python",
   "name": "python3"
  },
  "language_info": {
   "codemirror_mode": {
    "name": "ipython",
    "version": 3
   },
   "file_extension": ".py",
   "mimetype": "text/x-python",
   "name": "python",
   "nbconvert_exporter": "python",
   "pygments_lexer": "ipython3",
   "version": "3.10.9"
  }
 },
 "nbformat": 4,
 "nbformat_minor": 5
}
